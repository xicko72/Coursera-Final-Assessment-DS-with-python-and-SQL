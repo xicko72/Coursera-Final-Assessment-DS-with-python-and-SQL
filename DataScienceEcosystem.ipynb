{
 "cells": [
  {
   "cell_type": "markdown",
   "id": "e8cd983b-2459-4a72-9acb-f61acb24ec93",
   "metadata": {},
   "source": [
    "# Data Science Tools and Ecosystem"
   ]
  },
  {
   "cell_type": "markdown",
   "id": "2c7900ad-e21d-4004-bed4-8e48bd403498",
   "metadata": {},
   "source": [
    "### In this notebook, Data Science Tools and Ecosystems are summarized"
   ]
  },
  {
   "cell_type": "markdown",
   "id": "c041c4bc-f91f-4936-92c9-40a36ea5687b",
   "metadata": {},
   "source": [
    "Some of the popular languages that Data Scientists use are: "
   ]
  },
  {
   "cell_type": "markdown",
   "id": "727aed40-3f40-427d-9d69-3fb25bd2f47c",
   "metadata": {},
   "source": [
    "**Objectives:**\n",
    "\n",
    "- List popular languages for Data Science  \n",
    "- Identify commonly used Data Science libraries  \n",
    "- Create and format Markdown content in Jupyter Notebooks  \n",
    "- Perform basic arithmetic operations in Python  \n",
    "- Understand data science tools and environments\n"
   ]
  },
  {
   "cell_type": "code",
   "execution_count": 7,
   "id": "e16e8b3f-d1dc-4702-90d3-643e87cadb35",
   "metadata": {},
   "outputs": [
    {
     "name": "stdout",
     "output_type": "stream",
     "text": [
      "1. Python\n",
      "2. SQL\n",
      "3. R\n"
     ]
    }
   ],
   "source": [
    "languages_ds = [\"Python\", \"SQL\", \"R\"]\n",
    "for j, item in enumerate(languages_ds, start=1):\n",
    "    print(f\"{j}. {item}\")\n"
   ]
  },
  {
   "cell_type": "markdown",
   "id": "74b55637-2298-468f-b051-78d92c5cc32c",
   "metadata": {},
   "source": [
    "Someof the popular libraries used by Data Scientists are:"
   ]
  },
  {
   "cell_type": "code",
   "execution_count": 22,
   "id": "df74b27b-2a7f-4391-b48c-70f0b149f9f2",
   "metadata": {},
   "outputs": [
    {
     "name": "stdout",
     "output_type": "stream",
     "text": [
      "1. Plotlib\n",
      "2. Numpy\n",
      "3. Pandas\n",
      "4. ggplot\n"
     ]
    }
   ],
   "source": [
    "libraries_ds = [\"Plotlib\",\"Numpy\",\"Pandas\", \"ggplot\"]\n",
    "for i, item in enumerate(libraries_ds, start=1):\n",
    "    print(f\"{i}. {item}\")\n"
   ]
  },
  {
   "cell_type": "markdown",
   "id": "840911e5-63b6-44e2-b2e4-fdf880a5b761",
   "metadata": {},
   "source": [
    "\n",
    "| Data Science Tools         |\n",
    "|----------------------------|\n",
    "| Jupyter Notebook           |\n",
    "| RStudio                    |\n",
    "| Apache Zeppelin            |\n"
   ]
  },
  {
   "cell_type": "code",
   "execution_count": 25,
   "id": "4a4f01b4-bfb3-4102-a8b4-0594eb302ae5",
   "metadata": {},
   "outputs": [
    {
     "name": "stdout",
     "output_type": "stream",
     "text": [
      "17\n"
     ]
    }
   ],
   "source": [
    "#This a simple arithmetic expression to mutiply then add integers\n",
    "a=3\n",
    "b=4\n",
    "c=5\n",
    "x= (a*b)+c\n",
    "print (x)"
   ]
  },
  {
   "cell_type": "code",
   "execution_count": 27,
   "id": "7b0cdb5b-5d5d-4bb6-abdc-c70ab6519ac7",
   "metadata": {},
   "outputs": [
    {
     "name": "stdout",
     "output_type": "stream",
     "text": [
      "3.3333333333333335\n"
     ]
    }
   ],
   "source": [
    "#This will convert 200 minutes to hours by diving by 60\n",
    "hours = (200/60)\n",
    "print (hours)"
   ]
  },
  {
   "cell_type": "markdown",
   "id": "4721c354-656f-4501-a601-d3b78c2eeea7",
   "metadata": {},
   "source": [
    "## Author: \n",
    "EKPOKI ISAAC ALIYU"
   ]
  },
  {
   "cell_type": "code",
   "execution_count": null,
   "id": "9ae4fa40-dcf0-45aa-9088-ba32d7f96687",
   "metadata": {},
   "outputs": [],
   "source": []
  }
 ],
 "metadata": {
  "kernelspec": {
   "display_name": "Python 3 (ipykernel)",
   "language": "python",
   "name": "python3"
  },
  "language_info": {
   "codemirror_mode": {
    "name": "ipython",
    "version": 3
   },
   "file_extension": ".py",
   "mimetype": "text/x-python",
   "name": "python",
   "nbconvert_exporter": "python",
   "pygments_lexer": "ipython3",
   "version": "3.13.2"
  }
 },
 "nbformat": 4,
 "nbformat_minor": 5
}
